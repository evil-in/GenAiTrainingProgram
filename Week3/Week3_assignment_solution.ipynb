{
 "cells": [
  {
   "cell_type": "markdown",
   "metadata": {
    "application/vnd.databricks.v1+cell": {
     "cellMetadata": {},
     "inputWidgets": {},
     "nuid": "cc9aebb1-e5f4-4bf6-8d67-bfb0bad99adb",
     "showTitle": false,
     "tableResultSettingsMap": {},
     "title": ""
    }
   },
   "source": [
    "### Assessment 3:\n",
    "\t1. Input a prompt from the user\n",
    "\t2. Generate 3 outcomes from a generative AI model:\n",
    "  - a. A story of 100 words about the prompt \n",
    "  - b. This story should be represented in a vector/embeddings format \n",
    "  - c. Find all Part-of-speeches in the generated story \n"
   ]
  },
  {
   "cell_type": "code",
   "execution_count": 0,
   "metadata": {
    "application/vnd.databricks.v1+cell": {
     "cellMetadata": {
      "byteLimit": 2048000,
      "rowLimit": 10000
     },
     "inputWidgets": {},
     "nuid": "1acec31c-203d-4358-bba5-974413c39d20",
     "showTitle": false,
     "tableResultSettingsMap": {},
     "title": ""
    }
   },
   "outputs": [],
   "source": [
    "from openai import AzureOpenAI\n",
    "import spacy"
   ]
  },
  {
   "cell_type": "code",
   "execution_count": 0,
   "metadata": {
    "application/vnd.databricks.v1+cell": {
     "cellMetadata": {
      "byteLimit": 2048000,
      "rowLimit": 10000
     },
     "inputWidgets": {},
     "nuid": "1720f0df-b0e4-4e64-b5a2-2bfddfd60d95",
     "showTitle": false,
     "tableResultSettingsMap": {},
     "title": ""
    }
   },
   "outputs": [],
   "source": [
    "#spacy\n",
    "!python -m spacy download en_core_web_sm\n",
    "nlp = spacy.load('en_core_web_sm')"
   ]
  },
  {
   "cell_type": "code",
   "execution_count": 0,
   "metadata": {
    "application/vnd.databricks.v1+cell": {
     "cellMetadata": {
      "byteLimit": 2048000,
      "rowLimit": 10000
     },
     "inputWidgets": {},
     "nuid": "d3ddbc12-19e7-458f-94bf-e942e1a6a7c4",
     "showTitle": false,
     "tableResultSettingsMap": {},
     "title": ""
    }
   },
   "outputs": [],
   "source": [
    "def text_to_embeddings(text: str):\n",
    "    \"\"\"\n",
    "    Converts an input text of 100 words into a vector representation using spaCy embeddings.\n",
    "    \n",
    "    Args:\n",
    "        text (str): The input text containing approximately 100 words.\n",
    "    \n",
    "    Returns:\n",
    "        list: A list of 300-dimensional word embeddings for each word in the input text.\n",
    "    \"\"\"\n",
    "    \n",
    "    # Ensure the input is not too short or too long\n",
    "    words = text.split()\n",
    "    if len(words) > 100:\n",
    "        words = words[:100]  # Truncate to 100 words\n",
    "    elif len(words) < 100:\n",
    "        raise ValueError(\"Input text must contain at least 100 words.\")\n",
    "    \n",
    "    # Process the text with spaCy\n",
    "    doc = nlp(\" \".join(words))\n",
    "    \n",
    "    # Extract embeddings for each word\n",
    "    embeddings = [token.vector for token in doc if token.has_vector]\n",
    "    \n",
    "    # Ensure the embeddings list matches the input words (up to 100 embeddings)\n",
    "    if len(embeddings) != len(words):\n",
    "        raise ValueError(\"Not all words have valid embeddings.\")\n",
    "    \n",
    "    return embeddings"
   ]
  },
  {
   "cell_type": "code",
   "execution_count": 0,
   "metadata": {
    "application/vnd.databricks.v1+cell": {
     "cellMetadata": {
      "byteLimit": 2048000,
      "rowLimit": 10000
     },
     "inputWidgets": {},
     "nuid": "c7f054a3-5899-4e0b-a448-97825727f193",
     "showTitle": false,
     "tableResultSettingsMap": {},
     "title": ""
    }
   },
   "outputs": [],
   "source": [
    "def extract_pos_tags(story: str):\n",
    "    \"\"\"\n",
    "    Extracts all part-of-speech (POS) tags from the given text using spaCy.\n",
    "\n",
    "    Args:\n",
    "        story (str): The input text (story) to analyze.\n",
    "    \n",
    "    Returns:\n",
    "        list: A list of tuples where each tuple contains a word and its corresponding POS tag.\n",
    "    \"\"\"\n",
    "    # Load the spaCy model\n",
    "    # nlp = spacy.load(\"en_core_web_sm\")\n",
    "    \n",
    "    # Process the text\n",
    "    doc = nlp(story)\n",
    "    \n",
    "    # Extract words and their POS tags\n",
    "    pos_tags = [(token.text, token.pos_) for token in doc]\n",
    "    \n",
    "    return pos_tags"
   ]
  },
  {
   "cell_type": "code",
   "execution_count": 0,
   "metadata": {
    "application/vnd.databricks.v1+cell": {
     "cellMetadata": {
      "byteLimit": 2048000,
      "rowLimit": 10000
     },
     "inputWidgets": {},
     "nuid": "7b4dcf8a-f857-4256-8fa2-e47b54ab9ccd",
     "showTitle": false,
     "tableResultSettingsMap": {},
     "title": ""
    }
   },
   "outputs": [],
   "source": [
    "def generate_stories(input_text: str, num_stories: int = 3, word_limit: int = 100):\n",
    "    \"\"\"\n",
    "    Generates multiple 100-word stories based on the user's prompt using OpenAI's GPT model.\n",
    "    \n",
    "    Args:\n",
    "        prompt (str): The user-provided prompt for the story.\n",
    "        num_stories (int): Number of stories to generate. Default is 3.\n",
    "        word_limit (int): Word limit for each story. Default is 100 words.\n",
    "    \n",
    "    Returns:\n",
    "        list: A list of generated stories.\n",
    "    \"\"\"\n",
    "    azure_oai_endpoint =\"\"\n",
    "    azure_oai_key =\"\"\n",
    "    azure_oai_deployment =\"\"\n",
    "\n",
    "    # Initialize the Azure OpenAI client\n",
    "    client = AzureOpenAI(\n",
    "        azure_endpoint = azure_oai_endpoint, \n",
    "        api_key=azure_oai_key,  \n",
    "        api_version=\"2024-02-15-preview\"\n",
    "        )\n",
    "    stories = []\n",
    "\n",
    "    # Initialize messages array to maintain chat history\n",
    "    messages_array = [\n",
    "        {\"role\": \"system\", \"content\": \"You are a helpful assistant with a lot of humor.\"},\n",
    "        {\"role\": \"user\", \"content\": f\"Generate a paragraph of text using only {word_limit} words.\"}\n",
    "    ]\n",
    "\n",
    "    try:\n",
    "        for _ in range(num_stories):\n",
    "            messages_array.append({\"role\": \"user\", \"content\": f\"Write a story of about {word_limit} words based on the prompt: {input_text}.\"})\n",
    "            response = client.chat.completions.create(\n",
    "                model=azure_oai_deployment,\n",
    "                max_tokens=word_limit * 2,  # Adjusting for token overhead\n",
    "                temperature=0.7,  # Controls creativity\n",
    "                n=1,  # One story at a time\n",
    "                messages = messages_array\n",
    "            )\n",
    "            story = response.choices[0].message.content.strip()\n",
    "            stories.append(story)\n",
    "    except Exception as e:\n",
    "        print(f\"An error occurred: {e}\")\n",
    "    return stories"
   ]
  },
  {
   "cell_type": "code",
   "execution_count": 0,
   "metadata": {
    "application/vnd.databricks.v1+cell": {
     "cellMetadata": {
      "byteLimit": 2048000,
      "rowLimit": 10000
     },
     "inputWidgets": {},
     "nuid": "ca34866a-e987-470b-9ef2-9d684e8b8e9c",
     "showTitle": false,
     "tableResultSettingsMap": {},
     "title": ""
    }
   },
   "outputs": [],
   "source": [
    "# Prompt the user for input\n",
    "user_prompt = input(\"Enter a prompt for your story: \")\n",
    "\n",
    "# Generate 3 stories based on the prompt\n",
    "generated_stories = generate_stories(user_prompt)\n",
    "\n",
    "# Display the stories\n",
    "print(\"\\nGenerated Stories:\")\n",
    "for i, story in enumerate(generated_stories, start=1):\n",
    "    print(f\"\\nStory {i}:\\n{story}\")\n",
    "\n",
    "\n",
    "for i, story in enumerate(generated_stories, start=1):\n",
    "    #  represented in a vector/embeddings format \n",
    "    try:\n",
    "        embeddings = text_to_embeddings(story)\n",
    "        print(f\"Generated {len(embeddings)} word embeddings.\")\n",
    "    except ValueError as e:\n",
    "        print(e)\n",
    "\n",
    "    try:\n",
    "        # Extract POS tags from the story\n",
    "        pos_tags = extract_pos_tags(story)\n",
    "\n",
    "        # Print the POS tags\n",
    "        for word, pos in pos_tags:\n",
    "            print(f\"{word}: {pos}\")\n",
    "    except Exception as e:\n",
    "        print(e)\n"
   ]
  },
  {
   "cell_type": "code",
   "execution_count": 0,
   "metadata": {
    "application/vnd.databricks.v1+cell": {
     "cellMetadata": {},
     "inputWidgets": {},
     "nuid": "d1f525b0-8831-4f01-9b6d-a25198d97ae3",
     "showTitle": false,
     "tableResultSettingsMap": {},
     "title": ""
    }
   },
   "outputs": [],
   "source": []
  }
 ],
 "metadata": {
  "application/vnd.databricks.v1+notebook": {
   "dashboards": [],
   "environmentMetadata": {
    "base_environment": "",
    "client": "1"
   },
   "language": "python",
   "notebookMetadata": {
    "pythonIndentUnit": 4
   },
   "notebookName": "(Clone) Week3_assignment_solution",
   "widgets": {}
  },
  "language_info": {
   "name": "python"
  }
 },
 "nbformat": 4,
 "nbformat_minor": 0
}
