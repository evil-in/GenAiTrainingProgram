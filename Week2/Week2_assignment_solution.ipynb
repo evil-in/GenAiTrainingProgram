{
 "cells": [
  {
   "cell_type": "code",
   "execution_count": 0,
   "metadata": {
    "application/vnd.databricks.v1+cell": {
     "cellMetadata": {
      "byteLimit": 2048000,
      "rowLimit": 10000
     },
     "inputWidgets": {},
     "nuid": "1ca8c852-06d8-4719-94c9-81c1fd01f888",
     "showTitle": false,
     "tableResultSettingsMap": {},
     "title": ""
    }
   },
   "outputs": [],
   "source": [
    "import os\n",
    "import sys\n",
    "import asyncio\n",
    "from openai import AsyncAzureOpenAI"
   ]
  },
  {
   "cell_type": "code",
   "execution_count": 0,
   "metadata": {
    "application/vnd.databricks.v1+cell": {
     "cellMetadata": {
      "byteLimit": 2048000,
      "rowLimit": 10000
     },
     "inputWidgets": {},
     "nuid": "0eeaba60-8053-4c23-bdaa-6ec74cef20bc",
     "showTitle": false,
     "tableResultSettingsMap": {},
     "title": ""
    }
   },
   "outputs": [],
   "source": [
    "def create_input_file(input_file_name):\n",
    "    function_code = \"\"\"\n",
    "                    def absolute_square(num1, num2):\n",
    "                        result = abs(num1 - num2)\n",
    "                        result *= result\n",
    "                        return result\n",
    "                    \"\"\"\n",
    "\n",
    "    with open(input_file_name, 'w') as file:\n",
    "        file.write(function_code)\n",
    "\n",
    "    print(f\"Created and wrote to file: {input_file_name}\")"
   ]
  },
  {
   "cell_type": "code",
   "execution_count": 0,
   "metadata": {
    "application/vnd.databricks.v1+cell": {
     "cellMetadata": {
      "byteLimit": 2048000,
      "rowLimit": 10000
     },
     "inputWidgets": {},
     "nuid": "f0beb812-9927-4eb4-8ccc-776291cec904",
     "showTitle": false,
     "tableResultSettingsMap": {},
     "title": ""
    }
   },
   "outputs": [],
   "source": [
    "def read_file(file_path):\n",
    "    \"\"\"Reads the content of the specified file.\"\"\"\n",
    "    try:\n",
    "        with open(file_path, 'r') as file:\n",
    "            return file.read()\n",
    "    except Exception as e:\n",
    "        print(f\"Error reading file: {e}\")\n",
    "        sys.exit(1)"
   ]
  },
  {
   "cell_type": "code",
   "execution_count": 0,
   "metadata": {
    "application/vnd.databricks.v1+cell": {
     "cellMetadata": {
      "byteLimit": 2048000,
      "rowLimit": 10000
     },
     "inputWidgets": {},
     "nuid": "be03c800-4616-4b2b-9568-1714a9a7122e",
     "showTitle": false,
     "tableResultSettingsMap": {},
     "title": ""
    }
   },
   "outputs": [],
   "source": [
    "def save_file(content):\n",
    "    \"\"\"Saves the generated content to a new file.\"\"\"\n",
    "    try:\n",
    "        # Creating an empty text file named output.txt\n",
    "        file_name = 'output.txt'\n",
    "\n",
    "        with open(file_name, 'w') as file:\n",
    "            pass\n",
    "\n",
    "        print(f\"Created file: {file_name}\")\n",
    "    except Exception as e:\n",
    "        print(f\"Error saving file: {e}\")\n",
    "        sys.exit(1)"
   ]
  },
  {
   "cell_type": "code",
   "execution_count": 0,
   "metadata": {
    "application/vnd.databricks.v1+cell": {
     "cellMetadata": {
      "byteLimit": 2048000,
      "rowLimit": 10000
     },
     "inputWidgets": {},
     "nuid": "e6e8987c-58bb-4b20-8849-855566047ba9",
     "showTitle": false,
     "tableResultSettingsMap": {},
     "title": ""
    }
   },
   "outputs": [],
   "source": [
    "async def generate_commented_code(original_code, prompt, model, client):\n",
    "    \"\"\"Generates commented code using Azure OpenAI.\"\"\"\n",
    "    prompt = f\"{prompt}\\n\\n`{original_code}`\"\n",
    "    # Provide a basic user message, and use the prompt content as the user message\n",
    "    system_message = \"You are a helpful AI assistant that helps programmers write code.\"\n",
    "    user_message = prompt\n",
    "\n",
    "    # Format and send the request to the model\n",
    "    messages =[\n",
    "        {\"role\": \"system\", \"content\": system_message},\n",
    "        {\"role\": \"user\", \"content\": user_message},\n",
    "    ]\n",
    "    try:\n",
    "    # Call the Azure OpenAI model\n",
    "      response = await client.chat.completions.create(\n",
    "          model=model,\n",
    "          messages=messages,\n",
    "          temperature=0.5,\n",
    "          max_tokens=1000\n",
    "      )\n",
    "\n",
    "      return response.choices[0].message.content.strip() \n",
    "    except Exception as e:\n",
    "        print(f\"Error generating commented code: {e}\")\n",
    "        sys.exit(1)"
   ]
  },
  {
   "cell_type": "code",
   "execution_count": 0,
   "metadata": {
    "application/vnd.databricks.v1+cell": {
     "cellMetadata": {
      "byteLimit": 2048000,
      "rowLimit": 10000
     },
     "inputWidgets": {},
     "nuid": "2f388ee7-fe17-493e-b268-43d4ceb57add",
     "showTitle": false,
     "tableResultSettingsMap": {},
     "title": ""
    }
   },
   "outputs": [],
   "source": [
    "# Set to True to print the full response from OpenAI for each call\n",
    "printFullResponse = False\n",
    "\n",
    "async def main():\n",
    "  try:\n",
    "        # Get configuration settings\n",
    "        # Configuration settings\n",
    "        azure_oai_endpoint =\"\"\n",
    "        azure_oai_key =\"\"\n",
    "        azure_oai_deployment =\"\"\n",
    "\n",
    "        # Configure the Azure OpenAI client\n",
    "        client = AsyncAzureOpenAI(\n",
    "            azure_endpoint = azure_oai_endpoint,\n",
    "            api_key=azure_oai_key,\n",
    "            api_version=\"2024-02-15-preview\"\n",
    "        )\n",
    "\n",
    "        user_input = input('\\nUsage: <input_file.py>')\n",
    "        input_file = sys.argv[0]\n",
    "        create_input_file(input_file)\n",
    "\n",
    "        # Read the input file\n",
    "        original_code = open(file=input_file, encoding=\"utf8\").read()\n",
    "        print(f\"Original code:\\n {original_code} \")\n",
    "\n",
    "        # Define your prompt for the OpenAI model\n",
    "        prompt = (\n",
    "            \"Take the following Python code and rewrite it with detailed comments that explains what each part of the code is doing.\"\n",
    "        )\n",
    "\n",
    "        # Generate commented code\n",
    "        commented_code = await generate_commented_code(original_code, prompt=prompt, model=azure_oai_deployment, client=client)\n",
    "\n",
    "        print(f\"{commented_code}\")\n",
    "        # Save the output\n",
    "        save_file(commented_code)\n",
    "        results_file = open(file=\"output.txt\", mode=\"w\", encoding=\"utf8\")\n",
    "        results_file.write(commented_code)\n",
    "        print(f\"Final commented code writtent to output.txt\")\n",
    "\n",
    "  except Exception as ex:\n",
    "        print(ex)"
   ]
  },
  {
   "cell_type": "code",
   "execution_count": 0,
   "metadata": {
    "application/vnd.databricks.v1+cell": {
     "cellMetadata": {
      "byteLimit": 2048000,
      "rowLimit": 10000
     },
     "inputWidgets": {},
     "nuid": "f398456d-b221-4776-b37d-fbe99c3cdd85",
     "showTitle": false,
     "tableResultSettingsMap": {},
     "title": ""
    }
   },
   "outputs": [],
   "source": [
    "# Run the main function in the event loop\n",
    "await main()"
   ]
  },
  {
   "cell_type": "code",
   "execution_count": 0,
   "metadata": {
    "application/vnd.databricks.v1+cell": {
     "cellMetadata": {
      "byteLimit": 2048000,
      "rowLimit": 10000
     },
     "inputWidgets": {},
     "nuid": "940841a5-562c-4680-9dce-431bb89f3737",
     "showTitle": false,
     "tableResultSettingsMap": {},
     "title": ""
    }
   },
   "outputs": [],
   "source": []
  }
 ],
 "metadata": {
  "application/vnd.databricks.v1+notebook": {
   "dashboards": [],
   "environmentMetadata": {
    "base_environment": "",
    "client": "1"
   },
   "language": "python",
   "notebookMetadata": {
    "pythonIndentUnit": 2
   },
   "notebookName": "Week2_assignment_solution",
   "widgets": {}
  },
  "language_info": {
   "name": "python"
  }
 },
 "nbformat": 4,
 "nbformat_minor": 0
}
